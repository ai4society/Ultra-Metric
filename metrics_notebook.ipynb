{
 "cells": [
  {
   "cell_type": "markdown",
   "id": "989a9b22",
   "metadata": {},
   "source": [
    "# Metrics for ULTRA matching\n",
    "\n",
    "1. Redundancy\n",
    "2. Set size\n",
    "3. Coverage\n",
    "4. k-Robustness\n",
    "\n",
    "Slides/documentation: <a href=\"https://docs.google.com/presentation/d/12HVNCgqNqrhKBCUOW0fByQD6S29Ikc7WZTdA5TiOXoQ/edit#slide=id.g20ffb0b4f11_1_0\"> Link </a>"
   ]
  },
  {
   "cell_type": "code",
   "execution_count": 1,
   "id": "c11e0fe6",
   "metadata": {},
   "outputs": [],
   "source": [
    "%load_ext autoreload\n",
    "%autoreload 2  # Reload all modules (except those excluded by %aimport) every time before executing the code."
   ]
  },
  {
   "cell_type": "code",
   "execution_count": 2,
   "id": "4e49e726",
   "metadata": {},
   "outputs": [
    {
     "data": {
      "text/plain": [
       "<module 'metrics_scorer' from '/Users/likitha/Documents/GitHub/Ultra-Metric/metrics_scorer.py'>"
      ]
     },
     "execution_count": 2,
     "metadata": {},
     "output_type": "execute_result"
    }
   ],
   "source": [
    "import metrics_scorer as metrics\n",
    "import importlib\n",
    "importlib.reload(metrics)"
   ]
  },
  {
   "cell_type": "code",
   "execution_count": 3,
   "id": "3c5a4988",
   "metadata": {},
   "outputs": [
    {
     "name": "stdout",
     "output_type": "stream",
     "text": [
      "Metrics class instantiated\n"
     ]
    }
   ],
   "source": [
    "# Instantiate S1\n",
    "m = metrics.MetricScorer()"
   ]
  },
  {
   "cell_type": "code",
   "execution_count": 4,
   "id": "bfef1c6f",
   "metadata": {},
   "outputs": [],
   "source": [
    "# Add to demand[]\n",
    "m.demand.append(\"s1\")\n",
    "for i in range(2,5):\n",
    "    m.demand.append(\"s\"+(str(i)))"
   ]
  },
  {
   "cell_type": "code",
   "execution_count": 5,
   "id": "efbe2fcb",
   "metadata": {},
   "outputs": [],
   "source": [
    "# Add to supply - team[]\n",
    "m.team.append(\"a\")\n",
    "#m.team.append(\"b\")\n",
    "#m.team.append(\"c\")\n",
    "\n",
    "# Add to supply - researchers{}\n",
    "m.researchers[\"a\"]=[\"s1\", \"s2\"]\n",
    "#m.researchers[\"b\"]=[\"s3\"]\n",
    "#m.researchers[\"c\"]=[\"s2\", \"s3\"]"
   ]
  },
  {
   "cell_type": "code",
   "execution_count": 6,
   "id": "714842e9",
   "metadata": {},
   "outputs": [
    {
     "ename": "ZeroDivisionError",
     "evalue": "float division by zero",
     "output_type": "error",
     "traceback": [
      "\u001b[0;31m---------------------------------------------------------------------------\u001b[0m",
      "\u001b[0;31mZeroDivisionError\u001b[0m                         Traceback (most recent call last)",
      "Cell \u001b[0;32mIn [6], line 5\u001b[0m\n\u001b[1;32m      2\u001b[0m m\u001b[38;5;241m.\u001b[39mset_new_weights([\u001b[38;5;241m0.25\u001b[39m, \u001b[38;5;241m0.25\u001b[39m, \u001b[38;5;241m0.25\u001b[39m, \u001b[38;5;241m0.25\u001b[39m])\n\u001b[1;32m      4\u001b[0m \u001b[38;5;66;03m# Calculate metrics\u001b[39;00m\n\u001b[0;32m----> 5\u001b[0m \u001b[43mm\u001b[49m\u001b[38;5;241;43m.\u001b[39;49m\u001b[43mrun_metrics\u001b[49m\u001b[43m(\u001b[49m\u001b[43m)\u001b[49m\n",
      "File \u001b[0;32m~/Documents/GitHub/Ultra-Metric/metrics_scorer.py:180\u001b[0m, in \u001b[0;36mMetricScorer.run_metrics\u001b[0;34m(self)\u001b[0m\n\u001b[1;32m    178\u001b[0m \u001b[38;5;28mself\u001b[39m\u001b[38;5;241m.\u001b[39mcalc_coverage()\n\u001b[1;32m    179\u001b[0m \u001b[38;5;28mself\u001b[39m\u001b[38;5;241m.\u001b[39mcalc_krobust()\n\u001b[0;32m--> 180\u001b[0m \u001b[38;5;28;43mself\u001b[39;49m\u001b[38;5;241;43m.\u001b[39;49m\u001b[43mgoodness_measure\u001b[49m\u001b[43m(\u001b[49m\u001b[43m)\u001b[49m\n\u001b[1;32m    181\u001b[0m \u001b[38;5;28mprint\u001b[39m(\u001b[38;5;124m\"\u001b[39m\u001b[38;5;124mMetrics run\u001b[39m\u001b[38;5;124m\"\u001b[39m)\n",
      "File \u001b[0;32m~/Documents/GitHub/Ultra-Metric/metrics_scorer.py:171\u001b[0m, in \u001b[0;36mMetricScorer.goodness_measure\u001b[0;34m(self)\u001b[0m\n\u001b[1;32m    169\u001b[0m min_goodness\u001b[38;5;241m=\u001b[39m\u001b[38;5;28mmin\u001b[39m([\u001b[38;5;28mself\u001b[39m\u001b[38;5;241m.\u001b[39mw_r, \u001b[38;5;28mself\u001b[39m\u001b[38;5;241m.\u001b[39mw_s, \u001b[38;5;28mself\u001b[39m\u001b[38;5;241m.\u001b[39mw_c,\u001b[38;5;28mself\u001b[39m\u001b[38;5;241m.\u001b[39mw_k])\n\u001b[1;32m    170\u001b[0m max_goodness\u001b[38;5;241m=\u001b[39m\u001b[38;5;28mmax\u001b[39m([\u001b[38;5;28mself\u001b[39m\u001b[38;5;241m.\u001b[39mw_r, \u001b[38;5;28mself\u001b[39m\u001b[38;5;241m.\u001b[39mw_s, \u001b[38;5;28mself\u001b[39m\u001b[38;5;241m.\u001b[39mw_c,\u001b[38;5;28mself\u001b[39m\u001b[38;5;241m.\u001b[39mw_k])\n\u001b[0;32m--> 171\u001b[0m \u001b[38;5;28mself\u001b[39m\u001b[38;5;241m.\u001b[39mgoodness \u001b[38;5;241m=\u001b[39m \u001b[43m(\u001b[49m\u001b[38;5;28;43mself\u001b[39;49m\u001b[38;5;241;43m.\u001b[39;49m\u001b[43mgoodness\u001b[49m\u001b[38;5;241;43m-\u001b[39;49m\u001b[43mmin_goodness\u001b[49m\u001b[43m)\u001b[49m\u001b[43m \u001b[49m\u001b[38;5;241;43m/\u001b[39;49m\u001b[43m \u001b[49m\u001b[43m\\\u001b[49m\n\u001b[1;32m    172\u001b[0m \u001b[43m    \u001b[49m\u001b[43m(\u001b[49m\u001b[43mmax_goodness\u001b[49m\u001b[38;5;241;43m-\u001b[39;49m\u001b[43mmin_goodness\u001b[49m\u001b[43m)\u001b[49m\n",
      "\u001b[0;31mZeroDivisionError\u001b[0m: float division by zero"
     ]
    }
   ],
   "source": [
    "# Set weights for metrics\n",
    "m.set_new_weights([0.25, 0.25, 0.25, 0.25])\n",
    "\n",
    "# Calculate metrics\n",
    "m.run_metrics()"
   ]
  },
  {
   "cell_type": "code",
   "execution_count": null,
   "id": "2fac3b09",
   "metadata": {},
   "outputs": [],
   "source": [
    "# Show results\n",
    "m.printScorer()"
   ]
  },
  {
   "cell_type": "code",
   "execution_count": null,
   "id": "3b7f1117",
   "metadata": {},
   "outputs": [],
   "source": [
    "# Show results in tabular form\n",
    "m.printScorerTable()"
   ]
  },
  {
   "cell_type": "code",
   "execution_count": null,
   "id": "2e066c11",
   "metadata": {},
   "outputs": [],
   "source": [
    "# Reset scorer\n",
    "m.reset()"
   ]
  }
 ],
 "metadata": {
  "kernelspec": {
   "display_name": "Python 3 (ipykernel)",
   "language": "python",
   "name": "python3"
  },
  "language_info": {
   "codemirror_mode": {
    "name": "ipython",
    "version": 3
   },
   "file_extension": ".py",
   "mimetype": "text/x-python",
   "name": "python",
   "nbconvert_exporter": "python",
   "pygments_lexer": "ipython3",
   "version": "3.8.16"
  }
 },
 "nbformat": 4,
 "nbformat_minor": 5
}

{
 "cells": [
  {
   "cell_type": "markdown",
   "id": "b0604457",
   "metadata": {},
   "source": [
    "# Metrics for ULTRA matching\n",
    "\n",
    "1. Redundancy\n",
    "2. Set size\n",
    "3. Coverage\n",
    "4. k-Robustness\n",
    "\n",
    "Slides/documentation: <a href=\"https://docs.google.com/presentation/d/12HVNCgqNqrhKBCUOW0fByQD6S29Ikc7WZTdA5TiOXoQ/edit#slide=id.g20ffb0b4f11_1_0\"> Link </a>\n",
    "\n",
    "- ### <a href='#section:metrics_example1'>Example 1</a> - initializing supply/demand, setting weights, and running metrics\n",
    "- ### <a href='#section:metrics_example2'>Example 2</a> - same process as above, but trying for a different set of weights (negative ones)"
   ]
  },
  {
   "cell_type": "markdown",
   "id": "989a9b22",
   "metadata": {},
   "source": [
    "## Example 1 <a id='section:metrics_example1'></a> "
   ]
  },
  {
   "cell_type": "code",
   "execution_count": 1,
   "id": "c11e0fe6",
   "metadata": {},
   "outputs": [],
   "source": [
    "%load_ext autoreload\n",
    "%autoreload 2  # Reload all modules (except those excluded by %aimport) every time before executing the code."
   ]
  },
  {
   "cell_type": "code",
   "execution_count": 2,
   "id": "4e49e726",
   "metadata": {
    "scrolled": true
   },
   "outputs": [
    {
     "data": {
      "text/plain": [
       "<module 'metrics_scorer_with_weights' from '/Users/likitha/Documents/GitHub/ULTRA/Ultra-Metric/metrics_scorer_with_weights.py'>"
      ]
     },
     "execution_count": 2,
     "metadata": {},
     "output_type": "execute_result"
    }
   ],
   "source": [
    "import metrics_scorer_with_weights as metrics\n",
    "import importlib\n",
    "importlib.reload(metrics)"
   ]
  },
  {
   "cell_type": "code",
   "execution_count": 3,
   "id": "3c5a4988",
   "metadata": {},
   "outputs": [
    {
     "name": "stdout",
     "output_type": "stream",
     "text": [
      "Metrics class instantiated\n"
     ]
    }
   ],
   "source": [
    "# Instantiate S1\n",
    "m = metrics.MetricScorer()"
   ]
  },
  {
   "cell_type": "code",
   "execution_count": 4,
   "id": "bfef1c6f",
   "metadata": {},
   "outputs": [],
   "source": [
    "# Add to demand[]\n",
    "m.demand.append(\"s1\")\n",
    "for i in range(2,5):\n",
    "    m.demand.append(\"s\"+(str(i)))"
   ]
  },
  {
   "cell_type": "code",
   "execution_count": 5,
   "id": "efbe2fcb",
   "metadata": {},
   "outputs": [],
   "source": [
    "# Add to supply - team[]\n",
    "m.team.append(\"a\")\n",
    "m.team.append(\"b\")\n",
    "m.team.append(\"c\")\n",
    "\n",
    "# Add to supply - team_skills{}\n",
    "m.team_skills[\"a\"]={'s1':0.5, 's2':0.15} # {\"s1\", \"s2\"]}\n",
    "m.team_skills[\"b\"]={'s3':1}\n",
    "m.team_skills[\"c\"]={'s2':0.75, 's3':0.5}"
   ]
  },
  {
   "cell_type": "code",
   "execution_count": 16,
   "id": "eaa6964d",
   "metadata": {},
   "outputs": [
    {
     "data": {
      "text/plain": [
       "['s1', 's2', 's3', 's4']"
      ]
     },
     "execution_count": 16,
     "metadata": {},
     "output_type": "execute_result"
    }
   ],
   "source": [
    "m.demand"
   ]
  },
  {
   "cell_type": "code",
   "execution_count": 14,
   "id": "9f7eb4ee",
   "metadata": {},
   "outputs": [
    {
     "data": {
      "text/plain": [
       "['a', 'b', 'c']"
      ]
     },
     "execution_count": 14,
     "metadata": {},
     "output_type": "execute_result"
    }
   ],
   "source": [
    "m.team"
   ]
  },
  {
   "cell_type": "code",
   "execution_count": 7,
   "id": "714842e9",
   "metadata": {},
   "outputs": [
    {
     "ename": "NameError",
     "evalue": "name 'redundant_skills' is not defined",
     "output_type": "error",
     "traceback": [
      "\u001b[0;31m---------------------------------------------------------------------------\u001b[0m",
      "\u001b[0;31mNameError\u001b[0m                                 Traceback (most recent call last)",
      "Cell \u001b[0;32mIn [7], line 5\u001b[0m\n\u001b[1;32m      2\u001b[0m m\u001b[38;5;241m.\u001b[39mset_new_weights([\u001b[38;5;241m1\u001b[39m, \u001b[38;5;241m1\u001b[39m, \u001b[38;5;241m3\u001b[39m, \u001b[38;5;241m3\u001b[39m])  \u001b[38;5;66;03m# this is the one by default\u001b[39;00m\n\u001b[1;32m      4\u001b[0m \u001b[38;5;66;03m# Calculate metrics\u001b[39;00m\n\u001b[0;32m----> 5\u001b[0m \u001b[43mm\u001b[49m\u001b[38;5;241;43m.\u001b[39;49m\u001b[43mrun_metrics\u001b[49m\u001b[43m(\u001b[49m\u001b[43m)\u001b[49m\n",
      "File \u001b[0;32m~/Documents/GitHub/ULTRA/Ultra-Metric/metrics_scorer_with_weights.py:214\u001b[0m, in \u001b[0;36mMetricScorer.run_metrics\u001b[0;34m(self)\u001b[0m\n\u001b[1;32m    212\u001b[0m \u001b[38;5;28;01mdef\u001b[39;00m \u001b[38;5;21mrun_metrics\u001b[39m(\u001b[38;5;28mself\u001b[39m):\n\u001b[1;32m    213\u001b[0m     \u001b[38;5;66;03m# run metrics\u001b[39;00m\n\u001b[0;32m--> 214\u001b[0m     \u001b[38;5;28;43mself\u001b[39;49m\u001b[38;5;241;43m.\u001b[39;49m\u001b[43mcalc_redundancy\u001b[49m\u001b[43m(\u001b[49m\u001b[43m)\u001b[49m\n\u001b[1;32m    215\u001b[0m     \u001b[38;5;28mself\u001b[39m\u001b[38;5;241m.\u001b[39mcalc_setsize()\n\u001b[1;32m    216\u001b[0m     \u001b[38;5;28mself\u001b[39m\u001b[38;5;241m.\u001b[39mcalc_coverage()\n",
      "File \u001b[0;32m~/Documents/GitHub/ULTRA/Ultra-Metric/metrics_scorer_with_weights.py:77\u001b[0m, in \u001b[0;36mMetricScorer.calc_redundancy\u001b[0;34m(self)\u001b[0m\n\u001b[1;32m     75\u001b[0m \u001b[38;5;28;01mfor\u001b[39;00m member, skills \u001b[38;5;129;01min\u001b[39;00m \u001b[38;5;28mself\u001b[39m\u001b[38;5;241m.\u001b[39mteam_skills\u001b[38;5;241m.\u001b[39mitems():\n\u001b[1;32m     76\u001b[0m     \u001b[38;5;28;01mfor\u001b[39;00m skill \u001b[38;5;129;01min\u001b[39;00m skills:\n\u001b[0;32m---> 77\u001b[0m         \u001b[38;5;28;01mif\u001b[39;00m skill \u001b[38;5;129;01min\u001b[39;00m \u001b[38;5;28mself\u001b[39m\u001b[38;5;241m.\u001b[39mdemand \u001b[38;5;129;01mand\u001b[39;00m skill \u001b[38;5;129;01min\u001b[39;00m \u001b[43mredundant_skills\u001b[49m:\n\u001b[1;32m     78\u001b[0m             redundant_skills\u001b[38;5;241m.\u001b[39mappend(skill)\n\u001b[1;32m     80\u001b[0m \u001b[38;5;124;03m\"\"\"\u001b[39;00m\n\u001b[1;32m     81\u001b[0m \u001b[38;5;124;03mNormalize metric: normalized_score = (x_i – min(x)) / (max(x) – min(x))\u001b[39;00m\n\u001b[1;32m     82\u001b[0m \n\u001b[1;32m     83\u001b[0m \u001b[38;5;124;03mIdeally, the 'redundancy' score should only equal the number of skills that the RFP requires (which is known via extraction).\u001b[39;00m\n\u001b[1;32m     84\u001b[0m \u001b[38;5;124;03mIf the redundancy score matches the number of skills needed, then the score is 0. Otherwise, it's in the [0, 1] scale.\u001b[39;00m\n\u001b[1;32m     85\u001b[0m \u001b[38;5;124;03m\"\"\"\u001b[39;00m\n",
      "\u001b[0;31mNameError\u001b[0m: name 'redundant_skills' is not defined"
     ]
    }
   ],
   "source": [
    "# Set weights for metrics [redundancy, setsize, coverage, krobustness]\n",
    "m.set_new_weights([1, 1, 3, 3])  # this is the one by default\n",
    "\n",
    "# Calculate metrics\n",
    "m.run_metrics()"
   ]
  },
  {
   "cell_type": "code",
   "execution_count": null,
   "id": "2fac3b09",
   "metadata": {},
   "outputs": [],
   "source": [
    "# Show results\n",
    "m.printScorer()\n",
    "\n",
    "# each metric: apply min(), max(), avg() / other weightage to account for skill weightages"
   ]
  },
  {
   "cell_type": "code",
   "execution_count": null,
   "id": "3b7f1117",
   "metadata": {},
   "outputs": [],
   "source": [
    "# Show results in tabular form\n",
    "m.printScorerTable()"
   ]
  },
  {
   "cell_type": "code",
   "execution_count": null,
   "id": "2e066c11",
   "metadata": {},
   "outputs": [],
   "source": [
    "# Reset scorer\n",
    "m.reset()"
   ]
  }
 ],
 "metadata": {
  "kernelspec": {
   "display_name": "Python 3 (ipykernel)",
   "language": "python",
   "name": "python3"
  },
  "language_info": {
   "codemirror_mode": {
    "name": "ipython",
    "version": 3
   },
   "file_extension": ".py",
   "mimetype": "text/x-python",
   "name": "python",
   "nbconvert_exporter": "python",
   "pygments_lexer": "ipython3",
   "version": "3.8.16"
  }
 },
 "nbformat": 4,
 "nbformat_minor": 5
}

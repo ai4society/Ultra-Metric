{
 "cells": [
  {
   "cell_type": "markdown",
   "id": "b0604457",
   "metadata": {},
   "source": [
    "# Metrics for ULTRA matching\n",
    "\n",
    "1. Redundancy\n",
    "2. Set size\n",
    "3. Coverage\n",
    "4. k-Robustness\n",
    "\n",
    "Slides/documentation: <a href=\"https://docs.google.com/presentation/d/12HVNCgqNqrhKBCUOW0fByQD6S29Ikc7WZTdA5TiOXoQ/edit#slide=id.g20ffb0b4f11_1_0\"> Link </a>\n",
    "\n",
    "- ### <a href='#section:metrics_example1'>Example 1</a> - initializing supply/demand, setting weights, and running metrics\n",
    "- ### <a href='#section:metrics_example2'>Example 2</a> - same process as above, but trying for a different set of weights (negative ones)"
   ]
  },
  {
   "cell_type": "markdown",
   "id": "989a9b22",
   "metadata": {},
   "source": [
    "## Example 1 <a id='section:metrics_example1'></a> "
   ]
  },
  {
   "cell_type": "code",
   "execution_count": 1,
   "id": "c11e0fe6",
   "metadata": {},
   "outputs": [],
   "source": [
    "%load_ext autoreload\n",
    "%autoreload 2  # Reload all modules (except those excluded by %aimport) every time before executing the code."
   ]
  },
  {
   "cell_type": "code",
   "execution_count": 2,
   "id": "4e49e726",
   "metadata": {
    "scrolled": true
   },
   "outputs": [
    {
     "data": {
      "text/plain": [
       "<module 'metrics_scorer_with_weights' from '/Users/likitha/Documents/GitHub/ULTRA/Ultra-Metric/metrics_scorer_with_weights.py'>"
      ]
     },
     "execution_count": 2,
     "metadata": {},
     "output_type": "execute_result"
    }
   ],
   "source": [
    "import metrics_scorer_with_weights as metrics\n",
    "import importlib\n",
    "importlib.reload(metrics)"
   ]
  },
  {
   "cell_type": "code",
   "execution_count": 3,
   "id": "3c5a4988",
   "metadata": {},
   "outputs": [
    {
     "name": "stdout",
     "output_type": "stream",
     "text": [
      "Metrics class instantiated\n"
     ]
    }
   ],
   "source": [
    "# Instantiate S1\n",
    "m = metrics.MetricScorer()"
   ]
  },
  {
   "cell_type": "code",
   "execution_count": 4,
   "id": "bfef1c6f",
   "metadata": {},
   "outputs": [],
   "source": [
    "# Add to demand[]\n",
    "m.demand.append(\"s1\")\n",
    "for i in range(2,5):\n",
    "    m.demand.append(\"s\"+(str(i)))"
   ]
  },
  {
   "cell_type": "code",
   "execution_count": 5,
   "id": "efbe2fcb",
   "metadata": {},
   "outputs": [],
   "source": [
    "# Add to supply - team[]\n",
    "m.team.append(\"a\")\n",
    "m.team.append(\"b\")\n",
    "m.team.append(\"c\")\n",
    "\n",
    "# Add to supply - team_skills{}\n",
    "m.team_skills[\"a\"]={'s1':0.5, 's2':0.15} # {\"s1\", \"s2\"]}\n",
    "m.team_skills[\"b\"]={'s3':1}\n",
    "m.team_skills[\"c\"]={'s2':0.75, 's3':0.5}"
   ]
  },
  {
   "cell_type": "code",
   "execution_count": 6,
   "id": "714842e9",
   "metadata": {},
   "outputs": [
    {
     "name": "stdout",
     "output_type": "stream",
     "text": [
      "0.68125\n",
      "Metrics run\n"
     ]
    }
   ],
   "source": [
    "# Set weights for metrics [redundancy, setsize, coverage, krobustness]\n",
    "m.set_new_weights([1, 1, 3, 3])  # this is the one by default\n",
    "\n",
    "# Calculate metrics\n",
    "m.run_metrics()"
   ]
  },
  {
   "cell_type": "code",
   "execution_count": 7,
   "id": "2fac3b09",
   "metadata": {},
   "outputs": [
    {
     "name": "stdout",
     "output_type": "stream",
     "text": [
      "--------------------DEMAND--------------------\n",
      "Skills needed:\t ['s1', 's2', 's3', 's4']\n",
      "\n",
      "\n",
      "--------------------SUPPLY--------------------\n",
      "Team members:\t ['a', 'b', 'c']\n",
      "Team member skills:\t {'a': {'s1': 0.5, 's2': 0.15}, 'b': {'s3': 1}, 'c': {'s2': 0.75, 's3': 0.5}}\n",
      "\n",
      "\n",
      "--------------------METRICS--------------------\n",
      "Redundancy:\t 0.1625\n",
      "Set size:\t 0.6\n",
      "Coverage:\t 0.5625\n",
      "k-Robustness:\t 1\n",
      "Total goodness score:\t 0.68125\n"
     ]
    }
   ],
   "source": [
    "# Show results\n",
    "m.printScorer()"
   ]
  },
  {
   "cell_type": "code",
   "execution_count": 8,
   "id": "3b7f1117",
   "metadata": {},
   "outputs": [
    {
     "name": "stdout",
     "output_type": "stream",
     "text": [
      "+------------------+---------+\n",
      "| Team (right)     |      T1 |\n",
      "| Metric(below)    |         |\n",
      "+==================+=========+\n",
      "| Redundancy       | 0.1625  |\n",
      "+------------------+---------+\n",
      "| Set Size         | 0.6     |\n",
      "+------------------+---------+\n",
      "| Coverage         | 0.5625  |\n",
      "+------------------+---------+\n",
      "| k-Robustness     | 1       |\n",
      "+------------------+---------+\n",
      "| Overall Goodness | 0.68125 |\n",
      "+------------------+---------+\n"
     ]
    }
   ],
   "source": [
    "# Show results in tabular form\n",
    "m.printScorerTable()"
   ]
  },
  {
   "cell_type": "code",
   "execution_count": 9,
   "id": "2e066c11",
   "metadata": {},
   "outputs": [
    {
     "name": "stdout",
     "output_type": "stream",
     "text": [
      "Metrics class reset\n"
     ]
    }
   ],
   "source": [
    "# Reset scorer\n",
    "m.reset()"
   ]
  }
 ],
 "metadata": {
  "kernelspec": {
   "display_name": "Python 3 (ipykernel)",
   "language": "python",
   "name": "python3"
  },
  "language_info": {
   "codemirror_mode": {
    "name": "ipython",
    "version": 3
   },
   "file_extension": ".py",
   "mimetype": "text/x-python",
   "name": "python",
   "nbconvert_exporter": "python",
   "pygments_lexer": "ipython3",
   "version": "3.8.16"
  }
 },
 "nbformat": 4,
 "nbformat_minor": 5
}
